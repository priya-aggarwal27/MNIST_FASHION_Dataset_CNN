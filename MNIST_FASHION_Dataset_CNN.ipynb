{
  "nbformat": 4,
  "nbformat_minor": 0,
  "metadata": {
    "colab": {
      "name": "MNIST_FASHION_Dataset_CNN.ipynb",
      "provenance": []
    },
    "kernelspec": {
      "name": "python3",
      "display_name": "Python 3"
    },
    "language_info": {
      "name": "python"
    },
    "accelerator": "GPU"
  },
  "cells": [
    {
      "cell_type": "markdown",
      "metadata": {
        "id": "Nx3w_JKzvFKs"
      },
      "source": [
        "## Problem Statement\n",
        "Train a simple CNN on the Fashion MNIST dataset using Tensorflow Keras.\n",
        "\n",
        "The Fashion MNIST dataset including:\n",
        "\n",
        "*   60,000 training examples\n",
        "*   10,000 testing examples\n",
        "*   10 classes\n",
        "*   28×28 grayscale images\n",
        "\n",
        "The mapping of all 0-9 integers to class labels is listed below.\n",
        "```\n",
        "0: T-shirt/top\n",
        "1: Trouser\n",
        "2: Pullover\n",
        "3: Dress\n",
        "4: Coat\n",
        "5: Sandal\n",
        "6: Shirt\n",
        "7: Sneaker\n",
        "8: Bag\n",
        "9: Ankle boot\n",
        "```\n",
        "\n"
      ]
    },
    {
      "cell_type": "markdown",
      "metadata": {
        "id": "DhalRGb0x4fV"
      },
      "source": [
        "*Install Keras Tuner library to get hyperparameters of CNN model like **No of Filters**, **Filter Size** and **Learning Rate of Adam Optimizer**.*\n",
        "\n",
        "Requirement for keras Tuner is:\n",
        "\n",
        "*   Python : 3.6\n",
        "*   Tensorflow: 2.0\n",
        "\n",
        "\n"
      ]
    },
    {
      "cell_type": "code",
      "metadata": {
        "colab": {
          "base_uri": "https://localhost:8080/"
        },
        "id": "7rgSUJPtHQaL",
        "outputId": "6fcd3c41-4c8c-4c44-c18a-a09de698e2d3"
      },
      "source": [
        "!pip install keras_tuner"
      ],
      "execution_count": 12,
      "outputs": [
        {
          "output_type": "stream",
          "name": "stdout",
          "text": [
            "Collecting keras_tuner\n",
            "  Downloading keras_tuner-1.0.4-py3-none-any.whl (97 kB)\n",
            "\u001b[?25l\r\u001b[K     |███▍                            | 10 kB 26.4 MB/s eta 0:00:01\r\u001b[K     |██████▊                         | 20 kB 23.3 MB/s eta 0:00:01\r\u001b[K     |██████████                      | 30 kB 11.0 MB/s eta 0:00:01\r\u001b[K     |█████████████▍                  | 40 kB 9.3 MB/s eta 0:00:01\r\u001b[K     |████████████████▊               | 51 kB 5.3 MB/s eta 0:00:01\r\u001b[K     |████████████████████            | 61 kB 5.9 MB/s eta 0:00:01\r\u001b[K     |███████████████████████▍        | 71 kB 5.6 MB/s eta 0:00:01\r\u001b[K     |██████████████████████████▊     | 81 kB 6.2 MB/s eta 0:00:01\r\u001b[K     |██████████████████████████████▏ | 92 kB 4.8 MB/s eta 0:00:01\r\u001b[K     |████████████████████████████████| 97 kB 3.0 MB/s \n",
            "\u001b[?25hRequirement already satisfied: scipy in /usr/local/lib/python3.7/dist-packages (from keras_tuner) (1.4.1)\n",
            "Requirement already satisfied: numpy in /usr/local/lib/python3.7/dist-packages (from keras_tuner) (1.19.5)\n",
            "Requirement already satisfied: tensorboard in /usr/local/lib/python3.7/dist-packages (from keras_tuner) (2.6.0)\n",
            "Requirement already satisfied: requests in /usr/local/lib/python3.7/dist-packages (from keras_tuner) (2.23.0)\n",
            "Collecting kt-legacy\n",
            "  Downloading kt_legacy-1.0.4-py3-none-any.whl (9.6 kB)\n",
            "Requirement already satisfied: ipython in /usr/local/lib/python3.7/dist-packages (from keras_tuner) (5.5.0)\n",
            "Requirement already satisfied: packaging in /usr/local/lib/python3.7/dist-packages (from keras_tuner) (21.0)\n",
            "Requirement already satisfied: pickleshare in /usr/local/lib/python3.7/dist-packages (from ipython->keras_tuner) (0.7.5)\n",
            "Requirement already satisfied: traitlets>=4.2 in /usr/local/lib/python3.7/dist-packages (from ipython->keras_tuner) (5.0.5)\n",
            "Requirement already satisfied: decorator in /usr/local/lib/python3.7/dist-packages (from ipython->keras_tuner) (4.4.2)\n",
            "Requirement already satisfied: setuptools>=18.5 in /usr/local/lib/python3.7/dist-packages (from ipython->keras_tuner) (57.4.0)\n",
            "Requirement already satisfied: pexpect in /usr/local/lib/python3.7/dist-packages (from ipython->keras_tuner) (4.8.0)\n",
            "Requirement already satisfied: pygments in /usr/local/lib/python3.7/dist-packages (from ipython->keras_tuner) (2.6.1)\n",
            "Requirement already satisfied: simplegeneric>0.8 in /usr/local/lib/python3.7/dist-packages (from ipython->keras_tuner) (0.8.1)\n",
            "Requirement already satisfied: prompt-toolkit<2.0.0,>=1.0.4 in /usr/local/lib/python3.7/dist-packages (from ipython->keras_tuner) (1.0.18)\n",
            "Requirement already satisfied: wcwidth in /usr/local/lib/python3.7/dist-packages (from prompt-toolkit<2.0.0,>=1.0.4->ipython->keras_tuner) (0.2.5)\n",
            "Requirement already satisfied: six>=1.9.0 in /usr/local/lib/python3.7/dist-packages (from prompt-toolkit<2.0.0,>=1.0.4->ipython->keras_tuner) (1.15.0)\n",
            "Requirement already satisfied: ipython-genutils in /usr/local/lib/python3.7/dist-packages (from traitlets>=4.2->ipython->keras_tuner) (0.2.0)\n",
            "Requirement already satisfied: pyparsing>=2.0.2 in /usr/local/lib/python3.7/dist-packages (from packaging->keras_tuner) (2.4.7)\n",
            "Requirement already satisfied: ptyprocess>=0.5 in /usr/local/lib/python3.7/dist-packages (from pexpect->ipython->keras_tuner) (0.7.0)\n",
            "Requirement already satisfied: idna<3,>=2.5 in /usr/local/lib/python3.7/dist-packages (from requests->keras_tuner) (2.10)\n",
            "Requirement already satisfied: urllib3!=1.25.0,!=1.25.1,<1.26,>=1.21.1 in /usr/local/lib/python3.7/dist-packages (from requests->keras_tuner) (1.24.3)\n",
            "Requirement already satisfied: chardet<4,>=3.0.2 in /usr/local/lib/python3.7/dist-packages (from requests->keras_tuner) (3.0.4)\n",
            "Requirement already satisfied: certifi>=2017.4.17 in /usr/local/lib/python3.7/dist-packages (from requests->keras_tuner) (2021.5.30)\n",
            "Requirement already satisfied: absl-py>=0.4 in /usr/local/lib/python3.7/dist-packages (from tensorboard->keras_tuner) (0.12.0)\n",
            "Requirement already satisfied: protobuf>=3.6.0 in /usr/local/lib/python3.7/dist-packages (from tensorboard->keras_tuner) (3.17.3)\n",
            "Requirement already satisfied: tensorboard-data-server<0.7.0,>=0.6.0 in /usr/local/lib/python3.7/dist-packages (from tensorboard->keras_tuner) (0.6.1)\n",
            "Requirement already satisfied: google-auth<2,>=1.6.3 in /usr/local/lib/python3.7/dist-packages (from tensorboard->keras_tuner) (1.34.0)\n",
            "Requirement already satisfied: wheel>=0.26 in /usr/local/lib/python3.7/dist-packages (from tensorboard->keras_tuner) (0.37.0)\n",
            "Requirement already satisfied: grpcio>=1.24.3 in /usr/local/lib/python3.7/dist-packages (from tensorboard->keras_tuner) (1.39.0)\n",
            "Requirement already satisfied: google-auth-oauthlib<0.5,>=0.4.1 in /usr/local/lib/python3.7/dist-packages (from tensorboard->keras_tuner) (0.4.5)\n",
            "Requirement already satisfied: markdown>=2.6.8 in /usr/local/lib/python3.7/dist-packages (from tensorboard->keras_tuner) (3.3.4)\n",
            "Requirement already satisfied: tensorboard-plugin-wit>=1.6.0 in /usr/local/lib/python3.7/dist-packages (from tensorboard->keras_tuner) (1.8.0)\n",
            "Requirement already satisfied: werkzeug>=0.11.15 in /usr/local/lib/python3.7/dist-packages (from tensorboard->keras_tuner) (1.0.1)\n",
            "Requirement already satisfied: pyasn1-modules>=0.2.1 in /usr/local/lib/python3.7/dist-packages (from google-auth<2,>=1.6.3->tensorboard->keras_tuner) (0.2.8)\n",
            "Requirement already satisfied: rsa<5,>=3.1.4 in /usr/local/lib/python3.7/dist-packages (from google-auth<2,>=1.6.3->tensorboard->keras_tuner) (4.7.2)\n",
            "Requirement already satisfied: cachetools<5.0,>=2.0.0 in /usr/local/lib/python3.7/dist-packages (from google-auth<2,>=1.6.3->tensorboard->keras_tuner) (4.2.2)\n",
            "Requirement already satisfied: requests-oauthlib>=0.7.0 in /usr/local/lib/python3.7/dist-packages (from google-auth-oauthlib<0.5,>=0.4.1->tensorboard->keras_tuner) (1.3.0)\n",
            "Requirement already satisfied: importlib-metadata in /usr/local/lib/python3.7/dist-packages (from markdown>=2.6.8->tensorboard->keras_tuner) (4.6.4)\n",
            "Requirement already satisfied: pyasn1<0.5.0,>=0.4.6 in /usr/local/lib/python3.7/dist-packages (from pyasn1-modules>=0.2.1->google-auth<2,>=1.6.3->tensorboard->keras_tuner) (0.4.8)\n",
            "Requirement already satisfied: oauthlib>=3.0.0 in /usr/local/lib/python3.7/dist-packages (from requests-oauthlib>=0.7.0->google-auth-oauthlib<0.5,>=0.4.1->tensorboard->keras_tuner) (3.1.1)\n",
            "Requirement already satisfied: zipp>=0.5 in /usr/local/lib/python3.7/dist-packages (from importlib-metadata->markdown>=2.6.8->tensorboard->keras_tuner) (3.5.0)\n",
            "Requirement already satisfied: typing-extensions>=3.6.4 in /usr/local/lib/python3.7/dist-packages (from importlib-metadata->markdown>=2.6.8->tensorboard->keras_tuner) (3.7.4.3)\n",
            "Installing collected packages: kt-legacy, keras-tuner\n",
            "Successfully installed keras-tuner-1.0.4 kt-legacy-1.0.4\n"
          ]
        }
      ]
    },
    {
      "cell_type": "markdown",
      "metadata": {
        "id": "m54l-Aw1ec6h"
      },
      "source": [
        "### Import required Libraries"
      ]
    },
    {
      "cell_type": "code",
      "metadata": {
        "id": "Qq-IOrcDd94C"
      },
      "source": [
        "import tensorflow as tf\n",
        "from tensorflow import keras\n",
        "import numpy as np"
      ],
      "execution_count": 4,
      "outputs": []
    },
    {
      "cell_type": "markdown",
      "metadata": {
        "id": "NmaeoxWDejIc"
      },
      "source": [
        "### Load fashion mnist dataset from keras inbulid dataset"
      ]
    },
    {
      "cell_type": "code",
      "metadata": {
        "id": "EmdxyZI8eQ0p"
      },
      "source": [
        "fashion_mnist = keras.datasets.fashion_mnist"
      ],
      "execution_count": 5,
      "outputs": []
    },
    {
      "cell_type": "markdown",
      "metadata": {
        "id": "4AVzEadMeq4x"
      },
      "source": [
        "### Train Test Split the Dataset"
      ]
    },
    {
      "cell_type": "code",
      "metadata": {
        "colab": {
          "base_uri": "https://localhost:8080/"
        },
        "id": "gBoif5gdeYUw",
        "outputId": "80524235-7b0d-46d3-e528-ca2360024872"
      },
      "source": [
        "(train_images, train_labels), (test_images, test_labels) = fashion_mnist.load_data()"
      ],
      "execution_count": 6,
      "outputs": [
        {
          "output_type": "stream",
          "name": "stdout",
          "text": [
            "Downloading data from https://storage.googleapis.com/tensorflow/tf-keras-datasets/train-labels-idx1-ubyte.gz\n",
            "32768/29515 [=================================] - 0s 0us/step\n",
            "40960/29515 [=========================================] - 0s 0us/step\n",
            "Downloading data from https://storage.googleapis.com/tensorflow/tf-keras-datasets/train-images-idx3-ubyte.gz\n",
            "26427392/26421880 [==============================] - 0s 0us/step\n",
            "26435584/26421880 [==============================] - 0s 0us/step\n",
            "Downloading data from https://storage.googleapis.com/tensorflow/tf-keras-datasets/t10k-labels-idx1-ubyte.gz\n",
            "16384/5148 [===============================================================================================] - 0s 0us/step\n",
            "Downloading data from https://storage.googleapis.com/tensorflow/tf-keras-datasets/t10k-images-idx3-ubyte.gz\n",
            "4423680/4422102 [==============================] - 0s 0us/step\n",
            "4431872/4422102 [==============================] - 0s 0us/step\n"
          ]
        }
      ]
    },
    {
      "cell_type": "code",
      "metadata": {
        "colab": {
          "base_uri": "https://localhost:8080/"
        },
        "id": "e7Z_wktfe48D",
        "outputId": "1a20927b-f2fc-4250-938c-15e3a5c1fcc1"
      },
      "source": [
        "print(f\"Train images shape\", train_images.shape)\n",
        "print(f\"Test images shape\", test_images.shape)"
      ],
      "execution_count": 7,
      "outputs": [
        {
          "output_type": "stream",
          "name": "stdout",
          "text": [
            "Train images shape (60000, 28, 28)\n",
            "Test images shape (10000, 28, 28)\n"
          ]
        }
      ]
    },
    {
      "cell_type": "markdown",
      "metadata": {
        "id": "WNErHjuvfSfz"
      },
      "source": [
        "### Reshape the images\n",
        "\n",
        "Images are grayscale so our channel would be 1. "
      ]
    },
    {
      "cell_type": "code",
      "metadata": {
        "id": "P7U9QmpNe_Kn"
      },
      "source": [
        "train_images = train_images.reshape(len(train_images), 28, 28, 1)\n",
        "test_images= test_images.reshape(len(test_images), 28, 28, 1)"
      ],
      "execution_count": 8,
      "outputs": []
    },
    {
      "cell_type": "code",
      "metadata": {
        "colab": {
          "base_uri": "https://localhost:8080/"
        },
        "id": "XVbLMvQafqOb",
        "outputId": "db42e070-069a-45c6-94aa-e36a19ff8d43"
      },
      "source": [
        "print(f\"Train images shape\", train_images.shape)\n",
        "print(f\"Test images shape\", test_images.shape)"
      ],
      "execution_count": 9,
      "outputs": [
        {
          "output_type": "stream",
          "name": "stdout",
          "text": [
            "Train images shape (60000, 28, 28, 1)\n",
            "Test images shape (10000, 28, 28, 1)\n"
          ]
        }
      ]
    },
    {
      "cell_type": "markdown",
      "metadata": {
        "id": "ZkNQGOdWgFj6"
      },
      "source": [
        "### Build a model function"
      ]
    },
    {
      "cell_type": "code",
      "metadata": {
        "id": "0vXRZzCIf03C"
      },
      "source": [
        "def model_bulid(hp):\n",
        "  #create the model layers\n",
        "  model = keras.Sequential([\n",
        "                            keras.layers.Conv2D(\n",
        "                                filters = hp.Int('conv2d_1_filter', min_value = 32, max_value = 64, step = 16),\n",
        "                                kernel_size = hp.Choice('conv2d_1_kernal', values=[3,5]),\n",
        "                                activation = 'relu',\n",
        "                                input_shape = (28, 28, 1)\n",
        "                            ),\n",
        "                            keras.layers.Conv2D(\n",
        "                                filters = hp.Int('conv2d_2_filter', min_value = 32, max_value = 64, step = 16),\n",
        "                                kernel_size = hp.Choice('conv2d_2_kernal',values =[3,5]),\n",
        "                                activation = 'relu'\n",
        "                            ),\n",
        "                            keras.layers.Flatten(),\n",
        "                            keras.layers.Dense(\n",
        "                                units = hp.Int('dense_1_units', min_value = 32, max_value = 64, step = 16),\n",
        "                                activation = 'relu'\n",
        "                            ),\n",
        "                            keras.layers.Dense(10, activation='softmax')\n",
        "  ])\n",
        "\n",
        "  #compile the model\n",
        "  model.compile(optimizer = keras.optimizers.Adam(\n",
        "      hp.Choice('Learning rate', values = [1e-2, 1e-3])),\n",
        "      loss = 'sparse_categorical_crossentropy',\n",
        "      metrics = ['accuracy']\n",
        "  )\n",
        "\n",
        "  return model"
      ],
      "execution_count": 24,
      "outputs": []
    },
    {
      "cell_type": "markdown",
      "metadata": {
        "id": "ew5VUPQRy8tQ"
      },
      "source": [
        "### Import models of Randomsearch and Hyperparameters from Kerastuner library"
      ]
    },
    {
      "cell_type": "code",
      "metadata": {
        "colab": {
          "base_uri": "https://localhost:8080/"
        },
        "id": "ZMzgG510i0Mf",
        "outputId": "18571692-ad1a-4db0-db12-7123ef3db21e"
      },
      "source": [
        "from kerastuner import RandomSearch\n",
        "from kerastuner.engine.hyperparameters import HyperParameters"
      ],
      "execution_count": 13,
      "outputs": [
        {
          "output_type": "stream",
          "name": "stderr",
          "text": [
            "/usr/local/lib/python3.7/dist-packages/ipykernel_launcher.py:1: DeprecationWarning: `import kerastuner` is deprecated, please use `import keras_tuner`.\n",
            "  \"\"\"Entry point for launching an IPython kernel.\n"
          ]
        }
      ]
    },
    {
      "cell_type": "code",
      "metadata": {
        "id": "5roOuS-5jb44"
      },
      "source": [
        "tuner_search = RandomSearch(\n",
        "    model_bulid,\n",
        "    objective='val_accuracy', \n",
        "    max_trials=5, \n",
        "    directory = 'output', \n",
        "    project_name ='mnist_fashion'\n",
        ")"
      ],
      "execution_count": 25,
      "outputs": []
    },
    {
      "cell_type": "markdown",
      "metadata": {
        "id": "KlUOEkC6zUN3"
      },
      "source": [
        "### Run the search to get the accuracy for every epoch"
      ]
    },
    {
      "cell_type": "code",
      "metadata": {
        "colab": {
          "base_uri": "https://localhost:8080/"
        },
        "id": "vUCVSiebkmAW",
        "outputId": "5932f53d-d5de-49fc-93d8-b64e1d647f2c"
      },
      "source": [
        "tuner_search.search(train_images, train_labels, epochs = 3, validation_split = 0.1)"
      ],
      "execution_count": 26,
      "outputs": [
        {
          "output_type": "stream",
          "name": "stdout",
          "text": [
            "Trial 5 Complete [00h 00m 37s]\n",
            "val_accuracy: 0.8824999928474426\n",
            "\n",
            "Best val_accuracy So Far: 0.8859999775886536\n",
            "Total elapsed time: 00h 03m 56s\n",
            "INFO:tensorflow:Oracle triggered exit\n"
          ]
        }
      ]
    },
    {
      "cell_type": "markdown",
      "metadata": {
        "id": "0PXlqnGUzfG3"
      },
      "source": [
        "### Get the best model having best accuracy from kerastuner"
      ]
    },
    {
      "cell_type": "code",
      "metadata": {
        "id": "2oQk6D8pnCCz"
      },
      "source": [
        "model = tuner_search.get_best_models(num_models=1)[0]"
      ],
      "execution_count": 27,
      "outputs": []
    },
    {
      "cell_type": "code",
      "metadata": {
        "colab": {
          "base_uri": "https://localhost:8080/"
        },
        "id": "qx5Tg_nooJ5h",
        "outputId": "a3a16f85-341c-4426-e9d6-29f454daedc5"
      },
      "source": [
        "#get best model summary\n",
        "model.summary()"
      ],
      "execution_count": 29,
      "outputs": [
        {
          "output_type": "stream",
          "name": "stdout",
          "text": [
            "Model: \"sequential\"\n",
            "_________________________________________________________________\n",
            "Layer (type)                 Output Shape              Param #   \n",
            "=================================================================\n",
            "conv2d (Conv2D)              (None, 24, 24, 64)        1664      \n",
            "_________________________________________________________________\n",
            "conv2d_1 (Conv2D)            (None, 22, 22, 48)        27696     \n",
            "_________________________________________________________________\n",
            "flatten (Flatten)            (None, 23232)             0         \n",
            "_________________________________________________________________\n",
            "dense (Dense)                (None, 64)                1486912   \n",
            "_________________________________________________________________\n",
            "dense_1 (Dense)              (None, 10)                650       \n",
            "=================================================================\n",
            "Total params: 1,516,922\n",
            "Trainable params: 1,516,922\n",
            "Non-trainable params: 0\n",
            "_________________________________________________________________\n"
          ]
        }
      ]
    },
    {
      "cell_type": "markdown",
      "metadata": {
        "id": "accy8eIMol0p"
      },
      "source": [
        "### Fit the data in Best Model"
      ]
    },
    {
      "cell_type": "code",
      "metadata": {
        "colab": {
          "base_uri": "https://localhost:8080/"
        },
        "id": "DMCOPns_oLgA",
        "outputId": "aaf3ba9b-6069-44a1-a588-f645a5af19c1"
      },
      "source": [
        "model.fit(train_images,train_labels,epochs=10,validation_split=0.1, initial_epoch=3)"
      ],
      "execution_count": 30,
      "outputs": [
        {
          "output_type": "stream",
          "name": "stdout",
          "text": [
            "Epoch 4/10\n",
            "1688/1688 [==============================] - 13s 8ms/step - loss: 0.2696 - accuracy: 0.9016 - val_loss: 0.3337 - val_accuracy: 0.8848\n",
            "Epoch 5/10\n",
            "1688/1688 [==============================] - 13s 7ms/step - loss: 0.2347 - accuracy: 0.9129 - val_loss: 0.3586 - val_accuracy: 0.8830\n",
            "Epoch 6/10\n",
            "1688/1688 [==============================] - 13s 8ms/step - loss: 0.2028 - accuracy: 0.9246 - val_loss: 0.4053 - val_accuracy: 0.8805\n",
            "Epoch 7/10\n",
            "1688/1688 [==============================] - 13s 7ms/step - loss: 0.1731 - accuracy: 0.9358 - val_loss: 0.4168 - val_accuracy: 0.8787\n",
            "Epoch 8/10\n",
            "1688/1688 [==============================] - 13s 7ms/step - loss: 0.1550 - accuracy: 0.9429 - val_loss: 0.4048 - val_accuracy: 0.8892\n",
            "Epoch 9/10\n",
            "1688/1688 [==============================] - 12s 7ms/step - loss: 0.1350 - accuracy: 0.9512 - val_loss: 0.5086 - val_accuracy: 0.8643\n",
            "Epoch 10/10\n",
            "1688/1688 [==============================] - 13s 7ms/step - loss: 0.1229 - accuracy: 0.9559 - val_loss: 0.4629 - val_accuracy: 0.8915\n"
          ]
        },
        {
          "output_type": "execute_result",
          "data": {
            "text/plain": [
              "<keras.callbacks.History at 0x7f69c0461710>"
            ]
          },
          "metadata": {},
          "execution_count": 30
        }
      ]
    },
    {
      "cell_type": "markdown",
      "metadata": {
        "id": "hbTktEXfzowk"
      },
      "source": [
        "### Get the prediction on Test Images"
      ]
    },
    {
      "cell_type": "code",
      "metadata": {
        "colab": {
          "base_uri": "https://localhost:8080/"
        },
        "id": "C4BMwj1Xo927",
        "outputId": "5d5971b9-0f95-4780-db51-eebc7ed9fbaa"
      },
      "source": [
        "prediction = model.predict(test_images)\n",
        "prediction = np.argmax(prediction, axis = 1)\n",
        "prediction"
      ],
      "execution_count": 31,
      "outputs": [
        {
          "output_type": "execute_result",
          "data": {
            "text/plain": [
              "array([9, 2, 1, ..., 8, 1, 5])"
            ]
          },
          "metadata": {},
          "execution_count": 31
        }
      ]
    },
    {
      "cell_type": "code",
      "metadata": {
        "colab": {
          "base_uri": "https://localhost:8080/"
        },
        "id": "qHnyB7Miqa7K",
        "outputId": "dac354db-9f25-4af6-ab23-dbad58efeea3"
      },
      "source": [
        "score_test = model.evaluate(test_images,test_labels)\n",
        "print(f\" \",model.metrics_names[1],\" : \", round(score_test[1]*100, 2))"
      ],
      "execution_count": 32,
      "outputs": [
        {
          "output_type": "stream",
          "name": "stdout",
          "text": [
            "313/313 [==============================] - 2s 5ms/step - loss: 0.5269 - accuracy: 0.8801\n",
            "  accuracy  :  88.01\n"
          ]
        }
      ]
    },
    {
      "cell_type": "markdown",
      "metadata": {
        "id": "epu9pjX00AA9"
      },
      "source": [
        "We can see the model accuracy on Train and Test data:\n",
        "\n",
        "*   **Train Accuracy: ~96%**\n",
        "*   **Test Accuracy: ~88%**\n",
        "\n"
      ]
    },
    {
      "cell_type": "code",
      "metadata": {
        "id": "fn1FfsY1sA7_"
      },
      "source": [
        "import matplotlib.pyplot as plt"
      ],
      "execution_count": 33,
      "outputs": []
    },
    {
      "cell_type": "code",
      "metadata": {
        "id": "1-KFLQXjsSgP"
      },
      "source": [
        " #map the classes with indexes for better visualization \n",
        " class_mapping = {0: 'T-shirt/top', 1: 'Trouser', 2: 'Pullover', 3: 'Dress',\n",
        "                  4: 'Coat', 5: 'Sandal', 6: 'Shirt', 7: 'Sneaker',8: 'Bag', \n",
        "                  9: 'Ankle boot'}"
      ],
      "execution_count": 73,
      "outputs": []
    },
    {
      "cell_type": "markdown",
      "metadata": {
        "id": "7tPh4V6Mz8sI"
      },
      "source": [
        "Try and look at the different test cases and check which all have gone wrong."
      ]
    },
    {
      "cell_type": "code",
      "metadata": {
        "colab": {
          "base_uri": "https://localhost:8080/",
          "height": 298
        },
        "id": "JjnT6olyq64H",
        "outputId": "514768a2-72a5-483b-d743-4efb14bf9f24"
      },
      "source": [
        "index = 2000\n",
        "k = test_images[index, :]\n",
        "k = k.reshape((28,28))\n",
        "plt.title('Label is {label}'.format(label=class_mapping[prediction[index]]))\n",
        "plt.imshow(k, cmap='gray')"
      ],
      "execution_count": 72,
      "outputs": [
        {
          "output_type": "execute_result",
          "data": {
            "text/plain": [
              "<matplotlib.image.AxesImage at 0x7f691952d290>"
            ]
          },
          "metadata": {},
          "execution_count": 72
        },
        {
          "output_type": "display_data",
          "data": {
            "image/png": "[encoded data removed]",
            "text/plain": [
              "<Figure size 432x288 with 1 Axes>"
            ]
          },
          "metadata": {
            "needs_background": "light"
          }
        }
      ]
    },
    {
      "cell_type": "code",
      "metadata": {
        "id": "om3PV8HisF35"
      },
      "source": [
        ""
      ],
      "execution_count": null,
      "outputs": []
    }
  ]
}